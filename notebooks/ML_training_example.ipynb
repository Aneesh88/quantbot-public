{
 "cells": [
  {
   "cell_type": "markdown",
   "id": "3d15c08f",
   "metadata": {},
   "source": [
    "# 🧠 ML Training Example: XGBoost on Sample Market Data"
   ]
  },
  {
   "cell_type": "code",
   "execution_count": null,
   "id": "f3b6d3de",
   "metadata": {},
   "outputs": [],
   "source": [
    "import pandas as pd\n",
    "import xgboost as xgb\n",
    "from sklearn.model_selection import train_test_split\n",
    "from sklearn.metrics import roc_auc_score"
   ]
  },
  {
   "cell_type": "code",
   "execution_count": null,
   "id": "1172e305",
   "metadata": {},
   "outputs": [],
   "source": [
    "# Load sample data\n",
    "df = pd.read_csv('../data/sample_data.csv')\n",
    "df['target'] = [1, 0]  # Add dummy label"
   ]
  },
  {
   "cell_type": "code",
   "execution_count": null,
   "id": "fefe8e94",
   "metadata": {},
   "outputs": [],
   "source": [
    "# Define features and label\n",
    "X = df[['open', 'high', 'low', 'close', 'volume', 'oi']]\n",
    "y = df['target']\n",
    "X_train, X_test, y_train, y_test = train_test_split(X, y, test_size=0.5, random_state=42)"
   ]
  },
  {
   "cell_type": "code",
   "execution_count": null,
   "id": "c23b6b9b",
   "metadata": {},
   "outputs": [],
   "source": [
    "# Train model\n",
    "model = xgb.XGBClassifier(use_label_encoder=False, eval_metric='logloss')\n",
    "model.fit(X_train, y_train)"
   ]
  },
  {
   "cell_type": "code",
   "execution_count": null,
   "id": "4331b448",
   "metadata": {},
   "outputs": [],
   "source": [
    "# Evaluate\n",
    "preds = model.predict_proba(X_test)[:, 1]\n",
    "roc_auc = roc_auc_score(y_test, preds)\n",
    "print(f'ROC-AUC Score: {roc_auc:.4f}')"
   ]
  }
 ],
 "metadata": {},
 "nbformat": 4,
 "nbformat_minor": 5
}